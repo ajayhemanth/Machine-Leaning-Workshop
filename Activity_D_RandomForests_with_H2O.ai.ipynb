{
 "cells": [
  {
   "cell_type": "markdown",
   "id": "fd30137d",
   "metadata": {},
   "source": [
    "# Machine Learning (and Deep Learning) in just over 200 minutes with R\n",
    "Created by [Ajay Hemanth](https://www.linkedin.com/in/ajayhemanth/?originalSubdomain=au) with [Yoni Nazarathy](https://yoninazarathy.com/). \n",
    "\n",
    "See more material at the [workshop's GitHub page](https://github.com/ajayhemanth/Machine-Learning-Workshop).\n",
    "\n",
    "--- \n",
    "# Activity D: Random Forests with H2O\n",
    "---"
   ]
  },
  {
   "cell_type": "markdown",
   "id": "b81cea99",
   "metadata": {},
   "source": [
    "# H2O.ai\n",
    "\n",
    "[H2O.ai](https://www.h2o.ai/) is one of the leading tools for machine learning. It provides a wide range of machine learning algorithms, and is very fast in execution. <br>\n",
    "\n",
    "H2O.ai provides API support for R (along with many other tools) and also provide an easy to use user interface. R programmers can simply import H2O the package and use it like any other R package.<br>\n",
    "\n",
    "Below we show the positioning of H2O.ai compared to other market leaders in machine learning space. <br>\n",
    "\n",
    "<img src=\"img/h2oGartner.png\" width=\"50%\"/>\n",
    "\n",
    "We will explore Tree Based Machine Learning algorithms with H2O.ai.<br>"
   ]
  },
  {
   "cell_type": "markdown",
   "id": "c966394c",
   "metadata": {},
   "source": [
    "### Getting started with the H2O engine\n",
    "Running the [h2o.init](https://docs.h2o.ai/h2o/latest-stable/h2o-docs/starting-h2o.html#from-r) function spawns a new H2O process which we can access via the `localhost:54321` link by default. Once an H2O process is spawned any number of users can be connected to this H2O service to collaborate on model building processes. <br>\n",
    "Make sure not to run `h2o.init()` multiple times since this will end up creating multiple H2O services."
   ]
  },
  {
   "cell_type": "code",
   "execution_count": null,
   "id": "a5b3f82c",
   "metadata": {},
   "outputs": [],
   "source": [
    "# install.packages('h2o')\n",
    "library('h2o')\n",
    "h2o.init() # comment this line after an h2o instance created else multiple instance will be created"
   ]
  },
  {
   "cell_type": "markdown",
   "id": "cdb2d205",
   "metadata": {},
   "source": [
    "The welcome page of H2O at `localhost:54321` is below. Apart from providing a collection of machine learning models, H2O also provides an interface to\n",
    "- cleanse the data\n",
    "- create a series of steps to perform data mining, prediction and analysis\n",
    "- manage job statuses\n",
    "\n",
    "and many more which can be explored from the interface\n"
   ]
  },
  {
   "cell_type": "markdown",
   "id": "9d9aa3cd",
   "metadata": {},
   "source": [
    "<img src=\"img/h2oWelcome.PNG\" width=\"500\"/>"
   ]
  },
  {
   "cell_type": "markdown",
   "id": "6ea9f584",
   "metadata": {},
   "source": [
    "## Data Handling"
   ]
  },
  {
   "cell_type": "markdown",
   "id": "a7fe93b6",
   "metadata": {},
   "source": [
    "The same covertype dataset will be used for working with Random Forest."
   ]
  },
  {
   "cell_type": "code",
   "execution_count": null,
   "id": "25e90686",
   "metadata": {},
   "outputs": [],
   "source": [
    "# Make + as string concat operator as well.. Dont worry about this cell...\n",
    "\"+\" = function(x,y) { if(is.character(x) || is.character(y)) return(paste(x , y, sep=\"\")) else .Primitive(\"+\")(x,y) }"
   ]
  },
  {
   "cell_type": "code",
   "execution_count": null,
   "id": "8063228b",
   "metadata": {},
   "outputs": [],
   "source": [
    "d1 = read.csv(\"dataset/covtype.data\", header=FALSE, stringsAsFactors=FALSE)\n",
    "colnames(d1) = c('Elevation', 'Aspect', 'Slope', 'Horizontal_Distance_To_Hydrology', 'Vertical_Distance_To_Hydrology', 'Horizontal_Distance_To_Roadways', 'Hillshade_9am', 'Hillshade_Noon', 'Hillshade_3pm', 'Horizontal_Distance_To_Fire_Points', 'WildernessArea'+(1:4), 'SoilType'+(1:40), 'CoverType')"
   ]
  },
  {
   "cell_type": "markdown",
   "id": "ad421a8d",
   "metadata": {},
   "source": [
    "MLP in keras requires categorical data to be in binary matrix format. However, tree based algorithms like Decision Tree, Gradient Boosting Machines can work with categorical data as is.<br>\n",
    "Below code converts the binary matrix back to categorical column. This reduces total number of features from 55 to 13."
   ]
  },
  {
   "cell_type": "code",
   "execution_count": null,
   "id": "1f0e6d54",
   "metadata": {},
   "outputs": [],
   "source": [
    "ncol(d1)\n",
    "\n",
    "d1$WildernessArea = apply(d1[,'WildernessArea'+(1:4)], 1, function(x) sum(x*(1:4)))\n",
    "d1$SoilType = apply(d1[,'SoilType'+(1:40)], 1, function(x) sum(x*(1:40)))\n",
    "d1 = d1[,-(11:54)]\n",
    "\n",
    "ncol(d1)"
   ]
  },
  {
   "cell_type": "markdown",
   "id": "be3a83b9",
   "metadata": {},
   "source": [
    "** Type of the response variable decides the type of prediction -- if the response variable is a factor or string then classification happens, and if it is numeric then regression happens."
   ]
  },
  {
   "cell_type": "code",
   "execution_count": null,
   "id": "ad5a4e33",
   "metadata": {},
   "outputs": [],
   "source": [
    "d1$CoverType = as.factor(d1$CoverType)\n",
    "d1$WildernessArea = as.factor(d1$WildernessArea)\n",
    "d1$SoilType = as.factor(d1$SoilType)"
   ]
  },
  {
   "cell_type": "code",
   "execution_count": null,
   "id": "c9be050c",
   "metadata": {},
   "outputs": [],
   "source": [
    "str(d1)"
   ]
  },
  {
   "cell_type": "markdown",
   "id": "310e6428",
   "metadata": {},
   "source": [
    "#### Import R object to the H2O cluster\n",
    "\"d1\" R dataframe can be imported into H2O using `as.h2o` function. This function takes as input the input dataframe \"d1\" as the 1st argument, name to be given for the dataframe inside H2O as 2nd argument, and it returns a handle for the H2O object. The handle can be used to execute Machine Learning algorithms in H2O using R."
   ]
  },
  {
   "cell_type": "code",
   "execution_count": null,
   "id": "960d8eee",
   "metadata": {},
   "outputs": [],
   "source": [
    "test_index   = sample(x=1:nrow(d1), size=round(0.2*nrow(d1)), replace=FALSE)\n",
    "test_handle  = as.h2o(d1[ test_index,], \"test_data\") \n",
    "train_handle = as.h2o(d1[-test_index,], \"train_data\") "
   ]
  },
  {
   "cell_type": "markdown",
   "id": "51f93789",
   "metadata": {},
   "source": [
    "Data imported to H2O can be viewed in H2O UI under `Data > List All Frames`.<br>\n",
    "Clicking on the H2O data frame shows the structure of data frame\n",
    "\n",
    "<img src=\"img/h2oData.png\" width=\"800\"/>"
   ]
  },
  {
   "cell_type": "markdown",
   "id": "ea46e117",
   "metadata": {},
   "source": [
    "### Building Model\n",
    "List of models in H2O can be access from `Model` tab. <br>\n",
    "Let's build a Random Forest by `Model > Distributed Random Forest`. <br>\n",
    "It takes a number of parameters, few of which has been shown. <br>\n",
    "The train and test dataset created previously will be available in the drop down of \"training_frame\" and \"validation_frame\" respectively. Lets set only train, validation set, response column, and seed as shown, and leave all other parameters at default and train the model.\n",
    "<img src=\"img/DecisionTreePara1.PNG\" /> <img src=\"img/DecisionTreePara2.PNG\" /> \n",
    "<div align=\"center\">\n",
    "    .................................................. <br>\n",
    "    .................................................. <br>\n",
    "    .................................................. <br>\n",
    "    .................................................. <br>\n",
    "</div>\n",
    "\n",
    "Once the parameters are chosen, select `Build Model`    "
   ]
  },
  {
   "cell_type": "markdown",
   "id": "92db4487",
   "metadata": {},
   "source": [
    "Once the Job is complete, clicking on `View` button opens up the result. The 1st result is the model performance for different \"number of trees\" for the set hyperparameters."
   ]
  },
  {
   "cell_type": "markdown",
   "id": "18804e27",
   "metadata": {},
   "source": [
    "<img src=\"img/ModelPerformanceTrees.PNG\" width=\"300\"/>"
   ]
  },
  {
   "cell_type": "markdown",
   "id": "43b86c84",
   "metadata": {},
   "source": [
    "Variable importance represents the importance of each feature for the prediction. This serves very useful to find the most correlated feature with the response variable."
   ]
  },
  {
   "cell_type": "markdown",
   "id": "64ed44f4",
   "metadata": {},
   "source": [
    "<img src=\"img/VariableImportance.PNG\" width=\"600\"/>"
   ]
  },
  {
   "cell_type": "markdown",
   "id": "5bfc60cf",
   "metadata": {},
   "source": [
    "<img src=\"img/ConfusionMatrix.PNG\" width=\"700\"/>"
   ]
  },
  {
   "cell_type": "markdown",
   "id": "35cd284c",
   "metadata": {},
   "source": [
    "### Distributed Random Forest using R\n",
    "The same operation as above can be easily executed using R using `h2o.randomForest` function."
   ]
  },
  {
   "cell_type": "code",
   "execution_count": null,
   "id": "efb43910",
   "metadata": {},
   "outputs": [],
   "source": [
    "model = h2o.randomForest(\n",
    "    x = colnames(train_handle)[colnames(train_handle) != \"CoverType\"],\n",
    "    y = \"CoverType\",\n",
    "    training_frame = train_handle,\n",
    "    validation_frame = test_handle,\n",
    "    seed = 1\n",
    ")"
   ]
  },
  {
   "cell_type": "markdown",
   "id": "48940763",
   "metadata": {},
   "source": [
    "## Auto-Train Hyperparameters\n",
    "The hyperparameters were left to defaults for the previous Distributed Random Forest model. Choosing of hyperparameters can be very tricky and time consuming. H2O provides `AutoML` option to iterated through a set of hyperparameters, and algorithms to identify the combination closest to a good choice. This can be done by `Model > Run AutoML`. <br> \n",
    "One of the parameters for AutoML is the algorithms to be trained as shown below. Only Distributed Random Forest has been selected.\n",
    "<img src=\"img/AutoAlgo.PNG\" width=\"700\"/>\n",
    "Once the hyper-parameters are chosen select `Build Models`"
   ]
  },
  {
   "cell_type": "markdown",
   "id": "8e95030e",
   "metadata": {},
   "source": [
    "#### Leadership Board\n",
    "After the `AutoML` has completed execution, the leadership board shows all the models that has been created along with its performance. Choosing the model at the top shows the results of the best model. Its output will be similar to the previous DRF model built previously.\n",
    "\n",
    "<img src=\"img/LeadershipBoard.PNG\" width=\"800\"/>"
   ]
  },
  {
   "cell_type": "markdown",
   "id": "57ca42f6",
   "metadata": {},
   "source": [
    "#### Model Hyperparameters\n",
    "The hyperparmaters of all the model built using AutoML can be viewed from Output - Model Summary.\n",
    "<img src=\"img/ModelSummary.PNG\" width=\"300\"/>"
   ]
  },
  {
   "cell_type": "markdown",
   "id": "c490bc34",
   "metadata": {},
   "source": [
    "### H2O with R\n",
    "All the operations in H2O can be completely executed with its R API, and the functionality can be easily compared with UI. <br>\n",
    "[R Booklet](https://www.h2o.ai/wp-content/uploads/2018/01/RBooklet.pdf) is a good starting point to work with H2O using R."
   ]
  }
 ],
 "metadata": {
  "kernelspec": {
   "display_name": "R",
   "language": "R",
   "name": "ir"
  },
  "language_info": {
   "codemirror_mode": "r",
   "file_extension": ".r",
   "mimetype": "text/x-r-source",
   "name": "R",
   "pygments_lexer": "r",
   "version": "4.0.2"
  }
 },
 "nbformat": 4,
 "nbformat_minor": 5
}
