{
 "cells": [
  {
   "cell_type": "markdown",
   "metadata": {},
   "source": [
    "# Machine Learning (and Deep Learning) in just over 200 minutes with R\n",
    "Created by [Ajay Hemanth](https://www.linkedin.com/in/ajayhemanth/?originalSubdomain=au) with [Yoni Nazarathy](https://yoninazarathy.com/). \n",
    "\n",
    "See more material at the [workshop's GitHub page](https://github.com/ajayhemanth/Machine-Learning-Workshop).\n",
    "\n",
    "\n",
    "--- \n",
    "\n",
    "# Setup [[video link]](https://www.youtube.com/watch?v=XgEGyfSJFYw&list=PLhBHsIWXCvwbLfJcoVoFND3I2Cs00YkpA&index=5&t=30s)\n",
    "---"
   ]
  },
  {
   "cell_type": "markdown",
   "metadata": {},
   "source": [
    "For the workshop we require `R`, `Keras`, and `Anaconda`.\n",
    "- [R](https://www.r-project.org/) is a leading tool for statistical computing.\n",
    "- [Keras](https://keras.io/) is a very popular and easy to use tool for building Deep Neural Networks, and is an Open-Source tool.\n",
    "- However, Keras by default works only with Python, and so we'll be using an R package, [reticulate](https://rstudio.github.io/reticulate/), to communicate with Python to use Keras in R via Python. So Python here acts as a bridge between R and Keras. For Python to work properly with Keras it needs to have necessary packages installed which will be done through [Anaconda](https://www.anaconda.com/). The [R wrapper for Keras](https://keras.rstudio.com/) will be used in R.\n",
    "\n",
    "\n",
    "<img src=\"img/setup/RAnacondaKeras.png\" width=\"500\"/>\n"
   ]
  },
  {
   "cell_type": "markdown",
   "metadata": {},
   "source": [
    "Please follow the sequence of steps below to get a working system. <br>\n",
    "Also a video of the installation is available [here](https://www.youtube.com/watch?v=XgEGyfSJFYw&list=PLhBHsIWXCvwbLfJcoVoFND3I2Cs00YkpA&index=6&t=181s)."
   ]
  },
  {
   "cell_type": "markdown",
   "metadata": {},
   "source": [
    "**Note:** These instructions are written with a Windows machine in mind. Installations on Mac and Linux may vary slightly."
   ]
  },
  {
   "cell_type": "markdown",
   "metadata": {},
   "source": [
    "## 1. [Download](https://www.anaconda.com/products/individual) and install Anaconda [[video link]](https://www.youtube.com/watch?v=XgEGyfSJFYw&list=PLhBHsIWXCvwbLfJcoVoFND3I2Cs00YkpA&index=5&t=36s)\n",
    "\n",
    "Follow the defaults of the \"Individual Edition\" installation. There is no need to register on the website (in case popups appear).\n",
    "\n",
    "<div>\n",
    "<img src=\"img/setup/DownloadAnaconda.PNG\" width=\"500\"/>\n",
    "</div>"
   ]
  },
  {
   "cell_type": "markdown",
   "metadata": {},
   "source": [
    "## 2. Create Anaconda Environment [[video link]](https://www.youtube.com/watch?v=XgEGyfSJFYw&list=PLhBHsIWXCvwbLfJcoVoFND3I2Cs00YkpA&index=5&t=98s)\n",
    "\n",
    "An anaconda environment is a space where all tools required for a project are installed. So when you are required to use another system for this project, or share the tools and its dependencies with colleagues, then you can simply export the project environment and share it with them.\n",
    "\n",
    "### 2.1 Open Anacoda Prompt\n",
    "Post anaconda installation, open the Anaconda Terminal (Anaconda Prompt). On windows machines this will be via the start menu. On Mac or Linux it is similar.\n",
    "\n",
    "<div>\n",
    "<img src=\"img/setup/AnacondaStartup.png\" width=\"200\"/>\n",
    "</div>\n",
    "\n",
    "A blank anaconda terminal will look like this:  \n",
    "\n",
    "<div>\n",
    "<img src=\"img/setup/AnacondaTerminal.PNG\" width=\"500\"/>\n",
    "</div>\n",
    "\n",
    "Here `(base)` refers to the default anaconda enviornment present in anaconda. The current anaconda terminal name is given in round braces.\n",
    "\n",
    "### 2.2 Creating a new conda environment\n",
    "\n",
    "You can create the anaconda environment \"ML-Workshop\" using the following command:\n",
    "\n",
    "`conda create --name ML-Workshop`\n",
    "\n",
    "### 2.3 Switching to the new environment\n",
    "\n",
    "There can be multiple environments, each corresponding to a project. You can select a particular environment, say `ML-Workshop` using the following command:\n",
    "\n",
    "`conda activate ML-Workshop`\n",
    "\n",
    "Now you'll see `(ML-Workshop)` instead of `(base)`."
   ]
  },
  {
   "cell_type": "markdown",
   "metadata": {},
   "source": [
    "## 3. Installating Python, Tensorflow, Keras [[video link]](https://www.youtube.com/watch?v=XgEGyfSJFYw&list=PLhBHsIWXCvwbLfJcoVoFND3I2Cs00YkpA&index=5&t=171s)\n",
    "\n",
    "Install Python (in the current enviornment):\n",
    "\n",
    "`conda install -c anaconda python=3.7`"
   ]
  },
  {
   "cell_type": "markdown",
   "metadata": {},
   "source": [
    "We need the `tensorflow` package to be installed via Anaconda, before `keras` because keras sits on top of tensorflow\n",
    "\n",
    "`conda install -c anaconda tensorflow`"
   ]
  },
  {
   "cell_type": "markdown",
   "metadata": {},
   "source": [
    "Install Keras in conda *ONLY FOR WINDOWS* systems using the following code\n",
    "\n",
    "`conda install -c anaconda keras`"
   ]
  },
  {
   "cell_type": "markdown",
   "metadata": {},
   "source": [
    "\n",
    "## 4. Install R [[video link]](https://www.youtube.com/watch?v=XgEGyfSJFYw&list=PLhBHsIWXCvwbLfJcoVoFND3I2Cs00YkpA&index=5&t=253s)\n",
    "\n",
    "You may probably have R installed in your system. In case you don't then download and [install R](https://www.r-project.org/)"
   ]
  },
  {
   "cell_type": "markdown",
   "metadata": {},
   "source": [
    "## 5. Set R Environment Variable [[video link]](https://www.youtube.com/watch?v=XgEGyfSJFYw&list=PLhBHsIWXCvwbLfJcoVoFND3I2Cs00YkpA&index=5&t=295s)\n",
    "Set the R environment variable. The steps for setting R environment variable is given in the link. <br>\n",
    "Once done if you open up a terminal and type `R`, it should enter the R interactive terminal."
   ]
  },
  {
   "cell_type": "markdown",
   "metadata": {},
   "source": [
    "## 6. Integrate R, Python using Reticulate [[video link]](https://www.youtube.com/watch?v=XgEGyfSJFYw&list=PLhBHsIWXCvwbLfJcoVoFND3I2Cs00YkpA&index=5&t=370s)"
   ]
  },
  {
   "cell_type": "markdown",
   "metadata": {},
   "source": [
    "### 6.1 Open R interactive terminal inside `ML-Workshop` environment\n",
    "- open anaconda prompt\n",
    "- type `conda activate ML-Workshop`\n",
    "- type `r` and then hit `Enter`"
   ]
  },
  {
   "cell_type": "markdown",
   "metadata": {},
   "source": [
    "### 6.2 Integrating R, Python\n",
    "\n",
    "`reticulate` package is used by R to communicate with a Python instance installed in an anaconda environment. On Linux, you may need to first run `sudo apt install libpng-dev` or `sudo yum install libpng-devel` at a shell prompt to install its dependencies. Install and load the same as below:"
   ]
  },
  {
   "cell_type": "code",
   "execution_count": null,
   "metadata": {},
   "outputs": [],
   "source": [
    "install.packages(\"reticulate\")\n",
    "library(\"reticulate\")"
   ]
  },
  {
   "cell_type": "markdown",
   "metadata": {},
   "source": [
    "specify the name of anaconda environment to check"
   ]
  },
  {
   "cell_type": "code",
   "execution_count": null,
   "metadata": {},
   "outputs": [],
   "source": [
    "use_condaenv(\"ML-Workshop\")"
   ]
  },
  {
   "cell_type": "markdown",
   "metadata": {},
   "source": [
    "select the particular python instance for R to communicate with."
   ]
  },
  {
   "cell_type": "code",
   "execution_count": null,
   "metadata": {},
   "outputs": [],
   "source": [
    "use_python(Sys.getenv(\"CONDA_PREFIX\"))"
   ]
  },
  {
   "cell_type": "markdown",
   "metadata": {},
   "source": [
    "Ensure that the Rcpp package is up-to-date:"
   ]
  },
  {
   "cell_type": "code",
   "execution_count": null,
   "metadata": {},
   "outputs": [],
   "source": [
    "install.packages(\"Rcpp\")"
   ]
  },
  {
   "cell_type": "markdown",
   "metadata": {},
   "source": [
    "### 6.3 Install keras package in R\n",
    "\n",
    "Install keras packages in R (note it is safe to ignore the \"error\" about pip and h5py)."
   ]
  },
  {
   "cell_type": "code",
   "execution_count": null,
   "metadata": {},
   "outputs": [],
   "source": [
    "install.packages(\"keras\")\n",
    "library('keras')"
   ]
  },
  {
   "cell_type": "markdown",
   "metadata": {},
   "source": [
    "### 6.4 Install keras and dependencies in anaconda from within R console for macOS and linux systems (not for windows)"
   ]
  },
  {
   "cell_type": "code",
   "execution_count": null,
   "metadata": {},
   "outputs": [],
   "source": [
    "# this line of code is not required for Windows systems\n",
    "install_keras()"
   ]
  },
  {
   "cell_type": "markdown",
   "metadata": {},
   "source": [
    "With this the intergration should be complete, and you can check the same by executing the below line of code."
   ]
  },
  {
   "cell_type": "code",
   "execution_count": null,
   "metadata": {},
   "outputs": [],
   "source": [
    "mnist <- dataset_mnist()"
   ]
  },
  {
   "cell_type": "markdown",
   "metadata": {},
   "source": [
    "## 7. Adding R Kernel to Jupyter Notebook [[video link]](https://www.youtube.com/watch?v=XgEGyfSJFYw&list=PLhBHsIWXCvwbLfJcoVoFND3I2Cs00YkpA&index=5&t=560s)"
   ]
  },
  {
   "cell_type": "markdown",
   "metadata": {},
   "source": [
    "### 7.1 Installing Jupyter Notebook\n",
    "\n",
    "Jupyter provides an interactive enviornment for notebooks. Install it via: \n",
    "\n",
    "`conda install -c anaconda jupyter`\n",
    "\n",
    "If you have never used Jupyter before, you can view this [video](https://www.youtube.com/watch?v=DKiI6NfSIe8) to get a feel for it.\n"
   ]
  },
  {
   "cell_type": "markdown",
   "metadata": {},
   "source": [
    "### 7.2 Jupyter Notebook Kernel\n",
    "\n",
    "Jupyter connects to multiple language kernals including Python, R, and Julia. By default Jupyter would contain only a Python kernel after installation. The `R` option as shown below wouldn't be present. So only Python code can be executed. Since we'll test our code using R in Jupyter we need to setup an R kernel.\n",
    "\n",
    "<div>\n",
    "<img src=\"img/setup/JupyterFront.PNG\" width=\"700\"/>\n",
    "</div>"
   ]
  },
  {
   "cell_type": "markdown",
   "metadata": {},
   "source": [
    "### 7.3 Connect R to Jupyter\n",
    " \n",
    "In R, install the package `IRkernel` via, `install.packages('IRkernel')`.\n",
    "\n",
    "Then execute `IRkernel::installspec(user = TRUE)`\n",
    "\n",
    "This will connect the Jupyter system to R.\n",
    "\n",
    "Now when you run Jupyter via,\n",
    "\n",
    "`jupyter notebook` (in the Anaconda prompt inside your environment), you will able to create an R Notebook.\n",
    "\n"
   ]
  },
  {
   "cell_type": "markdown",
   "metadata": {},
   "source": [
    "At this point open this notebook via Jupyter (you might have been looking at it before via NBViewer or similar). You can now run R commands in it. e.g:"
   ]
  },
  {
   "cell_type": "code",
   "execution_count": null,
   "metadata": {},
   "outputs": [],
   "source": [
    "1+1"
   ]
  },
  {
   "cell_type": "markdown",
   "metadata": {},
   "source": []
  },
  {
   "cell_type": "markdown",
   "metadata": {},
   "source": [
    "We also need to install some R packages as used by the other workshop notebooks"
   ]
  },
  {
   "cell_type": "code",
   "execution_count": null,
   "metadata": {},
   "outputs": [],
   "source": [
    "install.packages(c(\"plot.matrix\",\"plotly\",\"h2o\",\"MASS\"))"
   ]
  }
 ],
 "metadata": {
  "kernelspec": {
   "display_name": "R",
   "language": "R",
   "name": "ir"
  },
  "language_info": {
   "codemirror_mode": "r",
   "file_extension": ".r",
   "mimetype": "text/x-r-source",
   "name": "R",
   "pygments_lexer": "r",
   "version": "4.0.2"
  }
 },
 "nbformat": 4,
 "nbformat_minor": 4
}
