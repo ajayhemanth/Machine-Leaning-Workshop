{
 "cells": [
  {
   "cell_type": "markdown",
   "metadata": {},
   "source": [
    "For the workshop we require `R`, `Keras`, and `Anaconda`.\n",
    "- [R](https://www.r-project.org/) is a leading tool for statistical computing.\n",
    "- [Keras](https://keras.io/) is a very popular and easy to use tool for building Deep Neural Networks, and is an Open-Source tool.\n",
    "- However, Keras by default works only with Python, and so we'll be using an R package, [reticulate](https://rstudio.github.io/reticulate/), to communicate with Python to use Keras in R via Python. So Python here acts as a bridge between R and Keras. For Python to work properly with Keras it needs to have necessary packages installed which will be done through [Anaconda](https://www.anaconda.com/). The [R wrapper for Keras](https://keras.rstudio.com/) will be used in R.\n",
    "\n",
    "<div>\n",
    "<img src=\"img/setup/RAnacondaKeras.PNG\" width=\"500\"/>\n",
    "</div>"
   ]
  },
  {
   "cell_type": "markdown",
   "metadata": {},
   "source": [
    "Please follow the sequence of steps below to get a working system. <br>\n",
    "Also a video of the installation is available [here](https://www.youtube.com/watch?v=XgEGyfSJFYw&list=PLhBHsIWXCvwbLfJcoVoFND3I2Cs00YkpA&index=6&t=181s)."
   ]
  },
  {
   "cell_type": "markdown",
   "metadata": {},
   "source": [
    "**Note:** These instructions are written with a Windows machine in mind. Installations on Mac and Linux may vary slightly."
   ]
  },
  {
   "cell_type": "markdown",
   "metadata": {},
   "source": [
    "### [Download](https://www.anaconda.com/products/individual) and install Anaconda\n",
    "\n",
    "Follow the defaults of the \"Individual Edition\" installation. There is no need to register on the website (in case popups appear).\n",
    "\n",
    "<div>\n",
    "<img src=\"img/setup/DownloadAnaconda.png\" width=\"500\"/>\n",
    "</div>"
   ]
  },
  {
   "cell_type": "markdown",
   "metadata": {},
   "source": [
    "### Open the Anaconda Terminal\n",
    "\n",
    "Post anaconda installation, open the Anaconda Terminal (Anaconda Prompt). On windows machines this will be via the start menu. On Mac or Linux it is similar.\n",
    "\n",
    "<div>\n",
    "<img src=\"img/setup/AnacondaStartup.PNG\" width=\"200\"/>\n",
    "</div>"
   ]
  },
  {
   "cell_type": "markdown",
   "metadata": {},
   "source": [
    "### Create an Anaconda Environment \n",
    "\n",
    "An anaconda environment is a space where all tools required for a project are installed. So when you are required to use another system for this project, or share the tools and its dependencies with colleagues, then you can simply export the project environment and share it with them.\n",
    "\n",
    "A blank anaconda terminal will look like this:  \n",
    "\n",
    "<div>\n",
    "<img src=\"img/setup/AnacondaTerminal.png\" width=\"500\"/>\n",
    "</div>\n",
    "\n",
    "Here `(base)` refers to the default anaconda enviornment present in anaconda. The current anaconda terminal name is given in round braces.\n",
    "\n",
    "You can create the anaconda environment \"ML-Workshop\" using the following command:\n",
    "\n",
    "`conda create --name ML-Workshop`"
   ]
  },
  {
   "cell_type": "markdown",
   "metadata": {},
   "source": [
    "### Switching to an environment\n",
    "\n",
    "There can be multiple environments, each corresponding to a project. You can select a particular environment, say `ML-Workshop` using the following command:\n",
    "\n",
    "`conda activate ML-Workshop`\n",
    "\n",
    "Now you'll see `(ML-Workshop)` instead of `(base)`."
   ]
  },
  {
   "cell_type": "markdown",
   "metadata": {},
   "source": [
    "### Ensuring Python is installed\n",
    "\n",
    "Install Python (in the current enviornment):\n",
    "\n",
    "`conda install -c anaconda python=3.7`"
   ]
  },
  {
   "cell_type": "markdown",
   "metadata": {},
   "source": [
    "### Installing Tensorflow using Anaconda\n",
    "\n",
    "We need the `tensorflow` package to be installed via Anaconda, before `keras` because keras sits on top of tensorflow\n",
    "\n",
    "`conda install -c anaconda tensorflow`"
   ]
  },
  {
   "cell_type": "markdown",
   "metadata": {},
   "source": [
    "\n",
    "### If you don't have R installed, install it\n",
    "\n",
    "You may probably have R installed in your system. In case you don't then download and [install R](https://www.r-project.org/)"
   ]
  },
  {
   "cell_type": "markdown",
   "metadata": {},
   "source": [
    "### Add R to the Path (Windows)\n",
    "Once you add R to the Path, you can open up a terminal and type `R`, and it should enter the R interactive terminal.\n"
    "Follow these steps to add R to the Path on Windows:\n"
    "1. Search the Windows Start Menu for 'Environment variables' and click the 'Edit environment variables for your account'.\n"
    "2. Click the 'Environment Variables' button at the bottom right of the window that appears.\n"
    "3. Select the 'Path' row in the top section of the window that appears and click 'Edit'.\n"
    "4. Click 'Browse' and browse to the location of your R executable file (usually C:\Program Files\R\<R version\bin\x64).\n"
    "5. Click 'Ok' on all the windows to close them."
    "6. Restart your console.\n"
   ]
  },
  {
   "cell_type": "markdown",
   "metadata": {},
   "source": [
    "### Open R interactive terminal inside `ML-Workshop` environment\n",
    "- open anaconda prompt\n",
    "- type `conda activate ML-Workshop`\n",
    "- type `r` and then hit `Enter`"
   ]
  },
  {
   "cell_type": "markdown",
   "metadata": {},
   "source": [
    "### Integrating Keras with R\n",
    "\n",
    "`reticulate` package is used by R to communicate with a Python instance installed in an anaconda environment. On Linux, you may need to first run `sudo apt install libpng-dev` or `sudo yum install libpng-devel` at a shell prompt to install its dependencies. Install and load the same as below:"
   ]
  },
  {
   "cell_type": "code",
   "execution_count": null,
   "metadata": {},
   "outputs": [],
   "source": [
    "install.packages(\"reticulate\")\n",
    "library(\"reticulate\")"
   ]
  },
  {
   "cell_type": "markdown",
   "metadata": {},
   "source": [
    "specify the name of anaconda environment to check"
   ]
  },
  {
   "cell_type": "code",
   "execution_count": null,
   "metadata": {},
   "outputs": [],
   "source": [
    "use_condaenv(\"ML-Workshop\")"
   ]
  },
  {
   "cell_type": "markdown",
   "metadata": {},
   "source": [
    "select the particular python instance for R to communicate with."
   ]
  },
  {
   "cell_type": "code",
   "execution_count": null,
   "metadata": {},
   "outputs": [],
   "source": [
    "use_python(Sys.getenv(\"CONDA_PREFIX\"))"
   ]
  },
  {
   "cell_type": "markdown",
   "metadata": {},
   "source": [
    "Ensure that the Rcpp package is up-to-date:"
   ]
  },
  {
   "cell_type": "code",
   "execution_count": null,
   "metadata": {},
   "outputs": [],
   "source": [
    "install.packages(\"Rcpp\")"
   ]
  },
  {
   "cell_type": "markdown",
   "metadata": {},
   "source": [
    "Install keras packages in R and its accompanying python package, from R (note it is safe to ignore the \"error\" about pip and h5py)."
   ]
  },
  {
   "cell_type": "code",
   "execution_count": null,
   "metadata": {},
   "outputs": [],
   "source": [
    "install.packages(\"keras\")\n",
    "library('keras')\n",
    "install_keras()"
   ]
  },
  {
   "cell_type": "markdown",
   "metadata": {},
   "source": [
    "With this the intergration should be complete, and you can check the same by executing the below line of code."
   ]
  },
  {
   "cell_type": "code",
   "execution_count": null,
   "metadata": {},
   "outputs": [],
   "source": [
    "mnist <- dataset_mnist()"
   ]
  },
  {
   "cell_type": "markdown",
   "metadata": {},
   "source": [
    "We also need to install some R packages as used by the other notebooks"
   ]
  },
  {
   "cell_type": "code",
   "execution_count": null,
   "metadata": {},
   "outputs": [],
   "source": [
    "install.packages(c(\"plot.matrix\",\"plotly\",\"h2o\",\"MASS\"))"
   ]
  },
  {
   "cell_type": "markdown",
   "metadata": {},
   "source": [
    "### Installing Jupyter Notebook\n",
    "\n",
    "Jupyter provides an interactive enviornment for notebooks. Install it via: \n",
    "\n",
    "`conda install -c anaconda jupyter`\n",
    "\n",
    "If you have never used Jupyter before, you can view this [video](https://www.youtube.com/watch?v=DKiI6NfSIe8) to get a feel for it.\n"
   ]
  },
  {
   "cell_type": "markdown",
   "metadata": {},
   "source": [
    "### Jupyter Notebook Kernel\n",
    "\n",
    "Jupyter connects to multiple language kernals including Python, R, and Julia. By default Jupyter would contain only a Python kernel after installation. The `R` option as shown below wouldn't be present. So only Python code can be executed. Since we'll test our code using R in Jupyter we need to setup an R kernel.\n",
    "\n",
    "<div>\n",
    "<img src=\"img/setup/JupyterFront.png\" width=\"500\"/>\n",
    "</div>"
   ]
  },
  {
   "cell_type": "markdown",
   "metadata": {},
   "source": [
    "### Connect R to Jupyter\n",
    " \n",
    "In R, install the package `IRkernel` via, `install.packages('IRkernel')`.\n",
    "\n",
    "Then execute `IRkernel::installspec(user = TRUE)`\n",
    "\n",
    "This will connect the Jupyter system to R.\n",
    "\n",
    "Now when you run Jupyter via,\n",
    "\n",
    "`jupyter notebook` (in the Anaconda prompt), you will able to create an R Notebook.\n",
    "\n"
   ]
  },
  {
   "cell_type": "markdown",
   "metadata": {},
   "source": [
    "At this point open this notebook via Jupyter (you might have been looking at it before via NBViewer or similar). You can now run R commands in it. e.g:"
   ]
  },
  {
   "cell_type": "code",
   "execution_count": null,
   "metadata": {},
   "outputs": [],
   "source": [
    "1+1"
   ]
  },
  {
   "cell_type": "code",
   "execution_count": null,
   "metadata": {},
   "outputs": [],
   "source": []
  }
 ],
 "metadata": {
  "kernelspec": {
   "display_name": "R",
   "language": "R",
   "name": "ir"
  },
  "language_info": {
   "codemirror_mode": "r",
   "file_extension": ".r",
   "mimetype": "text/x-r-source",
   "name": "R",
   "pygments_lexer": "r",
   "version": "4.1.1"
  }
 },
 "nbformat": 4,
 "nbformat_minor": 4
}
