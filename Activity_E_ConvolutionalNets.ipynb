{
 "cells": [
  {
   "cell_type": "markdown",
   "metadata": {},
   "source": [
    "# Machine Learning (and Deep Learning) in just over 200 minutes with R\n",
    "Created by [Ajay Hemanth](https://www.linkedin.com/in/ajayhemanth/?originalSubdomain=au) with [Yoni Nazarathy](https://yoninazarathy.com/). \n",
    "\n",
    "See more material at the [workshop's GitHub page](https://github.com/ajayhemanth/Machine-Learning-Workshop).\n",
    "\n",
    "--- \n",
    "\n",
    "# Activity E: Convolutional Nets\n",
    "---"
   ]
  },
  {
   "cell_type": "markdown",
   "metadata": {},
   "source": [
    "Note: The example is adapated from https://tensorflow.rstudio.com/guide/keras/examples/mnist_cnn/"
   ]
  },
  {
   "cell_type": "code",
   "execution_count": null,
   "metadata": {},
   "outputs": [],
   "source": [
    "library(keras)\n",
    "\n",
    "# Data Preparation -----------------------------------------------------\n",
    "\n",
    "batch_size <- 128\n",
    "num_classes <- 10\n",
    "epochs <- 12\n",
    "\n",
    "# Input image dimensions\n",
    "img_rows <- 28\n",
    "img_cols <- 28\n",
    "\n",
    "# The data, shuffled and split between train and test sets\n",
    "mnist <- dataset_mnist()\n",
    "x_train <- mnist$train$x\n",
    "y_train <- mnist$train$y\n",
    "x_test <- mnist$test$x\n",
    "y_test <- mnist$test$y\n",
    "\n",
    "# Redefine  dimension of train/test inputs\n",
    "x_train <- array_reshape(x_train, c(nrow(x_train), img_rows, img_cols, 1))\n",
    "x_test <- array_reshape(x_test, c(nrow(x_test), img_rows, img_cols, 1))\n",
    "input_shape <- c(img_rows, img_cols, 1)\n",
    "\n",
    "# Transform RGB values into [0,1] range\n",
    "x_train <- x_train / 255\n",
    "x_test <- x_test / 255\n",
    "\n",
    "cat('x_train_shape:', dim(x_train), '\\n')\n",
    "cat(nrow(x_train), 'train samples\\n')\n",
    "cat(nrow(x_test), 'test samples\\n')\n",
    "\n",
    "# Convert class vectors to binary class matrices\n",
    "y_train <- to_categorical(y_train, num_classes)\n",
    "y_test <- to_categorical(y_test, num_classes)\n",
    "\n",
    "# Define Model -----------------------------------------------------------\n",
    "\n",
    "# Define model\n",
    "model <- keras_model_sequential() %>%\n",
    "  layer_conv_2d(filters = 32, kernel_size = c(3,3), activation = 'relu',\n",
    "                input_shape = input_shape) %>% \n",
    "  layer_conv_2d(filters = 64, kernel_size = c(3,3), activation = 'relu') %>% \n",
    "  layer_max_pooling_2d(pool_size = c(2, 2)) %>% \n",
    "  layer_dropout(rate = 0.25) %>% \n",
    "  layer_flatten() %>% \n",
    "  layer_dense(units = 128, activation = 'relu') %>% \n",
    "  layer_dropout(rate = 0.5) %>% \n",
    "  layer_dense(units = num_classes, activation = 'softmax')\n",
    "\n",
    "# Compile model\n",
    "model %>% compile(\n",
    "  loss = loss_categorical_crossentropy,\n",
    "  optimizer = optimizer_adadelta(),\n",
    "  metrics = c('accuracy')\n",
    ")\n",
    "\n",
    "# Train model\n",
    "history = model %>% fit(\n",
    "  x_train, y_train,\n",
    "  batch_size = batch_size,\n",
    "  epochs = epochs,\n",
    "  validation_split = 0.2\n",
    ")\n",
    "\n",
    "\n",
    "plot(history)\n",
    "\n",
    "scores <- model %>% evaluate(\n",
    "  x_test, y_test, verbose = 0\n",
    ")\n",
    "\n",
    "# Output metrics\n",
    "cat('Test loss:', scores[[1]], '\\n')\n",
    "cat('Test accuracy:', scores[[2]], '\\n')"
   ]
  },
  {
   "cell_type": "markdown",
   "metadata": {},
   "source": [
    "<img src=\"img/cnnOutput.PNG\" width=\"30%\"/>"
   ]
  },
  {
   "cell_type": "markdown",
   "metadata": {},
   "source": [
    "<img src=\"img/cnnPlot.png\" width=\"50%\"/>"
   ]
  },
  {
   "cell_type": "code",
   "execution_count": null,
   "metadata": {},
   "outputs": [],
   "source": []
  }
 ],
 "metadata": {
  "kernelspec": {
   "display_name": "R",
   "language": "R",
   "name": "ir"
  },
  "language_info": {
   "codemirror_mode": "r",
   "file_extension": ".r",
   "mimetype": "text/x-r-source",
   "name": "R",
   "pygments_lexer": "r",
   "version": "4.0.2"
  }
 },
 "nbformat": 4,
 "nbformat_minor": 4
}
